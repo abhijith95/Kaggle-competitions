{
 "cells": [
  {
   "cell_type": "markdown",
   "metadata": {},
   "source": [
    "# Titanic competition"
   ]
  },
  {
   "cell_type": "code",
   "execution_count": 1,
   "metadata": {},
   "outputs": [],
   "source": [
    "import pandas as pd\n",
    "import matplotlib.pyplot as plt\n",
    "import seaborn as sns\n",
    "import warnings\n",
    "warnings.filterwarnings('ignore')\n",
    "data_file = pd.read_csv('./train.csv')"
   ]
  },
  {
   "cell_type": "markdown",
   "metadata": {},
   "source": [
    "## Finding null values and fixing them"
   ]
  },
  {
   "cell_type": "code",
   "execution_count": 2,
   "metadata": {},
   "outputs": [
    {
     "name": "stdout",
     "output_type": "stream",
     "text": [
      "\n",
      " Before manipulating: \n",
      " PassengerId      0\n",
      "Survived         0\n",
      "Pclass           0\n",
      "Name             0\n",
      "Sex              0\n",
      "Age            177\n",
      "SibSp            0\n",
      "Parch            0\n",
      "Ticket           0\n",
      "Fare             0\n",
      "Cabin          687\n",
      "Embarked         2\n",
      "dtype: int64\n"
     ]
    }
   ],
   "source": [
    "print('\\n Before manipulating: \\n',data_file.isnull().sum())\n",
    "data_file.drop(['PassengerId','Cabin','Ticket'], axis = 1, inplace = True)"
   ]
  },
  {
   "cell_type": "markdown",
   "metadata": {},
   "source": [
    "Following is the logic to fill the empty value of the age. Comb through the names and see if there is \"Master\" then it has to be a boy, assign the mean age of the boys. For men check the names against 'Mr.'. For all the names with \"Miss\", it can either be a single woman or a little girl, in which case the second condition will be to check the age, if less than 18 use the mean of all female people who are below 18 years. If more than 18 then use the mean of all females above 18. Apart from this 'Mrs' also qualifies for women who are above 18, hence factor this as well."
   ]
  },
  {
   "cell_type": "code",
   "execution_count": 3,
   "metadata": {},
   "outputs": [
    {
     "name": "stdout",
     "output_type": "stream",
     "text": [
      "\n",
      " After filling the age columns, the coloumns with NAN values are: \n",
      " Survived    0\n",
      "Pclass      0\n",
      "Name        0\n",
      "Sex         0\n",
      "Age         0\n",
      "SibSp       0\n",
      "Parch       0\n",
      "Fare        0\n",
      "Embarked    0\n",
      "dtype: int64\n"
     ]
    },
    {
     "data": {
      "text/html": [
       "<div>\n",
       "<style scoped>\n",
       "    .dataframe tbody tr th:only-of-type {\n",
       "        vertical-align: middle;\n",
       "    }\n",
       "\n",
       "    .dataframe tbody tr th {\n",
       "        vertical-align: top;\n",
       "    }\n",
       "\n",
       "    .dataframe thead th {\n",
       "        text-align: right;\n",
       "    }\n",
       "</style>\n",
       "<table border=\"1\" class=\"dataframe\">\n",
       "  <thead>\n",
       "    <tr style=\"text-align: right;\">\n",
       "      <th></th>\n",
       "      <th>Survived</th>\n",
       "      <th>Pclass</th>\n",
       "      <th>Sex</th>\n",
       "      <th>Age</th>\n",
       "      <th>SibSp</th>\n",
       "      <th>Parch</th>\n",
       "      <th>Fare</th>\n",
       "      <th>Embarked</th>\n",
       "    </tr>\n",
       "  </thead>\n",
       "  <tbody>\n",
       "    <tr>\n",
       "      <td>0</td>\n",
       "      <td>0</td>\n",
       "      <td>3</td>\n",
       "      <td>male</td>\n",
       "      <td>22.000000</td>\n",
       "      <td>1</td>\n",
       "      <td>0</td>\n",
       "      <td>7.2500</td>\n",
       "      <td>S</td>\n",
       "    </tr>\n",
       "    <tr>\n",
       "      <td>1</td>\n",
       "      <td>1</td>\n",
       "      <td>1</td>\n",
       "      <td>female</td>\n",
       "      <td>32.428571</td>\n",
       "      <td>1</td>\n",
       "      <td>0</td>\n",
       "      <td>71.2833</td>\n",
       "      <td>C</td>\n",
       "    </tr>\n",
       "    <tr>\n",
       "      <td>2</td>\n",
       "      <td>1</td>\n",
       "      <td>3</td>\n",
       "      <td>female</td>\n",
       "      <td>26.000000</td>\n",
       "      <td>0</td>\n",
       "      <td>0</td>\n",
       "      <td>7.9250</td>\n",
       "      <td>S</td>\n",
       "    </tr>\n",
       "    <tr>\n",
       "      <td>3</td>\n",
       "      <td>1</td>\n",
       "      <td>1</td>\n",
       "      <td>female</td>\n",
       "      <td>32.428571</td>\n",
       "      <td>1</td>\n",
       "      <td>0</td>\n",
       "      <td>53.1000</td>\n",
       "      <td>S</td>\n",
       "    </tr>\n",
       "    <tr>\n",
       "      <td>4</td>\n",
       "      <td>0</td>\n",
       "      <td>3</td>\n",
       "      <td>male</td>\n",
       "      <td>35.000000</td>\n",
       "      <td>0</td>\n",
       "      <td>0</td>\n",
       "      <td>8.0500</td>\n",
       "      <td>S</td>\n",
       "    </tr>\n",
       "  </tbody>\n",
       "</table>\n",
       "</div>"
      ],
      "text/plain": [
       "   Survived  Pclass     Sex        Age  SibSp  Parch     Fare Embarked\n",
       "0         0       3    male  22.000000      1      0   7.2500        S\n",
       "1         1       1  female  32.428571      1      0  71.2833        C\n",
       "2         1       3  female  26.000000      0      0   7.9250        S\n",
       "3         1       1  female  32.428571      1      0  53.1000        S\n",
       "4         0       3    male  35.000000      0      0   8.0500        S"
      ]
     },
     "execution_count": 3,
     "metadata": {},
     "output_type": "execute_result"
    }
   ],
   "source": [
    "data_file.drop(data_file[data_file.Embarked.isnull()].index,axis = 0, inplace = True)\n",
    "data_file.reset_index(drop = True, inplace = True)\n",
    "age_filter = data_file.Age < 18\n",
    "age_null_filter = data_file.Age.isnull()\n",
    "name_filter_master = data_file.Name.str.contains(\"Master\")\n",
    "name_filter_mister = data_file.Name.str.contains(\"Mr\")\n",
    "name_filter_missus = data_file.Name.str.contains(\"Mrs\")\n",
    "name_filter_miss = data_file.Name.str.contains(\"Miss\")\n",
    "mean_age_boys = data_file[name_filter_master].Age.mean()\n",
    "mean_age_girls = data_file[name_filter_miss & age_filter].Age.mean()\n",
    "mean_age_women = data_file[(name_filter_miss & ~age_filter) | name_filter_missus].Age.mean()\n",
    "mean_age_men = data_file[name_filter_mister].Age.mean()\n",
    "data_file.loc[age_null_filter & name_filter_mister,'Age'] = mean_age_men\n",
    "data_file.loc[age_null_filter & name_filter_master,'Age'] = mean_age_boys\n",
    "data_file.loc[age_null_filter & name_filter_miss & age_filter,'Age'] = mean_age_girls\n",
    "data_file.loc[age_null_filter & (name_filter_miss & ~age_filter) | name_filter_missus,'Age'] = mean_age_women\n",
    "#There is one person whose age is missing and he does not have Mr in his name. \n",
    "#So this person's age will be replaced by mean age of men\n",
    "data_file.loc[~name_filter_master & ~name_filter_mister & ~name_filter_missus & ~name_filter_miss & age_null_filter,'Age'] = mean_age_men\n",
    "print('\\n After filling the age columns, the coloumns with NAN values are: \\n', data_file.isnull().sum())\n",
    "# Dropping the name column and the two rows where Embarked data was left out\n",
    "data_file.drop(columns ='Name',inplace = True)\n",
    "data_file.head(5)"
   ]
  },
  {
   "cell_type": "markdown",
   "metadata": {},
   "source": [
    "## Converting categorical data to numerical values"
   ]
  },
  {
   "cell_type": "code",
   "execution_count": 4,
   "metadata": {},
   "outputs": [],
   "source": [
    "from sklearn.preprocessing import LabelEncoder\n",
    "from sklearn.preprocessing import OneHotEncoder\n",
    "\n",
    "le = LabelEncoder()\n",
    "ohe = OneHotEncoder()\n",
    "\n",
    "temp_embark = ohe.fit_transform(data_file.iloc[:,1:2].values).toarray()\n",
    "temp_embark = pd.DataFrame(temp_embark)\n",
    "temp_embark.columns = ['Cherbourg','Queenstown','Southampton']\n",
    "\n",
    "temp_pclass = ohe.fit_transform(data_file.iloc[:,7:8].values).toarray()\n",
    "temp_pclass = pd.DataFrame(temp_pclass)\n",
    "temp_pclass.columns = ['Upper','Middle','Lower']\n",
    "\n",
    "temp_sex = le.fit_transform(data_file.Sex)\n",
    "temp_sex = pd.DataFrame(temp_sex)\n",
    "temp_sex.columns = ['Sex']"
   ]
  },
  {
   "cell_type": "markdown",
   "metadata": {},
   "source": [
    "## Data visualization"
   ]
  },
  {
   "cell_type": "code",
   "execution_count": 5,
   "metadata": {},
   "outputs": [
    {
     "data": {
      "text/plain": [
       "<matplotlib.axes._subplots.AxesSubplot at 0x188b1b9f948>"
      ]
     },
     "execution_count": 5,
     "metadata": {},
     "output_type": "execute_result"
    },
    {
     "data": {
      "image/png": "[encoded data removed]",
      "text/plain": [
       "<Figure size 432x288 with 1 Axes>"
      ]
     },
     "metadata": {
      "needs_background": "light"
     },
     "output_type": "display_data"
    }
   ],
   "source": [
    "#sns.boxplot(x ='Fare', hue = 'Survived', data = data_file)\n",
    "data_file.describe()\n",
    "survived_filter = data_file.Survived == 1\n",
    "fare_filter = data_file.Fare.isin([10,50])\n",
    "embark_filter = temp_embark.Queenstown == 1\n",
    "#data_file[~survived_filter & ~age_filter].describe()\n",
    "#sns.distplot(data_file[~survived_filter].Age)\n",
    "#sns.barplot(x = 'Pclass', y = 'Survived', hue = 'Sex', data = data_file)\n",
    "sns.distplot(data_file.Fare)"
   ]
  },
  {
   "cell_type": "markdown",
   "metadata": {},
   "source": [
    "## Feature engineering"
   ]
  },
  {
   "cell_type": "markdown",
   "metadata": {},
   "source": [
    "The model was run initially with low scores on the test data. Feature engineering concepts like combining features or adding new features will be tried out here. "
   ]
  },
  {
   "cell_type": "markdown",
   "metadata": {},
   "source": [
    "### Adding a new column to bin people into different age groups and bin fare"
   ]
  },
  {
   "cell_type": "code",
   "execution_count": 6,
   "metadata": {},
   "outputs": [
    {
     "data": {
      "text/html": [
       "<div>\n",
       "<style scoped>\n",
       "    .dataframe tbody tr th:only-of-type {\n",
       "        vertical-align: middle;\n",
       "    }\n",
       "\n",
       "    .dataframe tbody tr th {\n",
       "        vertical-align: top;\n",
       "    }\n",
       "\n",
       "    .dataframe thead th {\n",
       "        text-align: right;\n",
       "    }\n",
       "</style>\n",
       "<table border=\"1\" class=\"dataframe\">\n",
       "  <thead>\n",
       "    <tr style=\"text-align: right;\">\n",
       "      <th></th>\n",
       "      <th>Lvl 1</th>\n",
       "      <th>Lvl 2</th>\n",
       "      <th>Lvl 3</th>\n",
       "      <th>Lvl 4</th>\n",
       "      <th>Lvl 5</th>\n",
       "      <th>Lvl 6</th>\n",
       "      <th>Lvl 7</th>\n",
       "      <th>Lvl 8</th>\n",
       "    </tr>\n",
       "  </thead>\n",
       "  <tbody>\n",
       "    <tr>\n",
       "      <td>0</td>\n",
       "      <td>1.0</td>\n",
       "      <td>0.0</td>\n",
       "      <td>0.0</td>\n",
       "      <td>0.0</td>\n",
       "      <td>0.0</td>\n",
       "      <td>0.0</td>\n",
       "      <td>0.0</td>\n",
       "      <td>0.0</td>\n",
       "    </tr>\n",
       "    <tr>\n",
       "      <td>1</td>\n",
       "      <td>0.0</td>\n",
       "      <td>0.0</td>\n",
       "      <td>0.0</td>\n",
       "      <td>0.0</td>\n",
       "      <td>1.0</td>\n",
       "      <td>0.0</td>\n",
       "      <td>0.0</td>\n",
       "      <td>0.0</td>\n",
       "    </tr>\n",
       "    <tr>\n",
       "      <td>2</td>\n",
       "      <td>1.0</td>\n",
       "      <td>0.0</td>\n",
       "      <td>0.0</td>\n",
       "      <td>0.0</td>\n",
       "      <td>0.0</td>\n",
       "      <td>0.0</td>\n",
       "      <td>0.0</td>\n",
       "      <td>0.0</td>\n",
       "    </tr>\n",
       "    <tr>\n",
       "      <td>3</td>\n",
       "      <td>0.0</td>\n",
       "      <td>0.0</td>\n",
       "      <td>0.0</td>\n",
       "      <td>1.0</td>\n",
       "      <td>0.0</td>\n",
       "      <td>0.0</td>\n",
       "      <td>0.0</td>\n",
       "      <td>0.0</td>\n",
       "    </tr>\n",
       "  </tbody>\n",
       "</table>\n",
       "</div>"
      ],
      "text/plain": [
       "   Lvl 1  Lvl 2  Lvl 3  Lvl 4  Lvl 5  Lvl 6  Lvl 7  Lvl 8\n",
       "0    1.0    0.0    0.0    0.0    0.0    0.0    0.0    0.0\n",
       "1    0.0    0.0    0.0    0.0    1.0    0.0    0.0    0.0\n",
       "2    1.0    0.0    0.0    0.0    0.0    0.0    0.0    0.0\n",
       "3    0.0    0.0    0.0    1.0    0.0    0.0    0.0    0.0"
      ]
     },
     "execution_count": 6,
     "metadata": {},
     "output_type": "execute_result"
    },
    {
     "data": {
      "image/png": "[encoded data removed]",
      "text/plain": [
       "<Figure size 432x288 with 1 Axes>"
      ]
     },
     "metadata": {
      "needs_background": "light"
     },
     "output_type": "display_data"
    }
   ],
   "source": [
    "age_bins = [-1,5,11,19,30,50,120]\n",
    "age_groups = ['Infant','Kid','Teenagers','Adults','Middle-age','Old']\n",
    "data_file['Age_group'] = pd.cut(data_file.Age, age_bins, labels = age_groups)\n",
    "#sns.barplot(x = 'Age_group', y = 'Survived', hue = 'Sex', data = data_file)\n",
    "#data_file\n",
    "# Doing one hot encoding to conver this data into numbers\n",
    "temp_age_grp = ohe.fit_transform(data_file.iloc[:,8:9].values).toarray()\n",
    "temp_age_grp = pd.DataFrame(temp_age_grp)\n",
    "temp_age_grp.columns = ['Infant','Kid','Teenagers','Adults','Middle-age','Old']\n",
    "temp_age_grp.head(4)\n",
    "fare_bins = [-1,10,20,40,70,100,200,400,600]\n",
    "fare_grps = ['Lvl 1','Lvl 2','Lvl 3','Lvl 4','Lvl 5','Lvl 6','Lvl 7','Lvl 8']\n",
    "data_file['Fare_group'] = pd.cut(data_file.Fare, fare_bins, labels = fare_grps)\n",
    "sns.barplot(x = 'Fare_group', y = 'Survived', hue = 'Sex', data = data_file)\n",
    "temp_fare_grp = ohe.fit_transform(data_file.iloc[:,9:10].values).toarray()\n",
    "temp_fare_grp = pd.DataFrame(temp_fare_grp)\n",
    "temp_fare_grp.columns = ['Lvl 1','Lvl 2','Lvl 3','Lvl 4','Lvl 5','Lvl 6','Lvl 7','Lvl 8']\n",
    "temp_fare_grp.head(4)"
   ]
  },
  {
   "cell_type": "markdown",
   "metadata": {},
   "source": [
    "## Splitting the data and rescaling the features"
   ]
  },
  {
   "cell_type": "code",
   "execution_count": 7,
   "metadata": {},
   "outputs": [],
   "source": [
    "#X = data_file[['Fare']].copy()\n",
    "Y = data_file[['Survived']].copy()\n",
    "X = pd.concat([temp_embark, temp_sex, temp_age_grp, temp_pclass, temp_fare_grp], axis = 1)\n",
    "from sklearn.model_selection import train_test_split\n",
    "x_train, x_test, y_train, y_test = train_test_split(X, Y, test_size=0.33, random_state=0)\n",
    "from sklearn.preprocessing import StandardScaler\n",
    "from sklearn.preprocessing import MinMaxScaler\n",
    "n_scaler = MinMaxScaler()\n",
    "s_scaler = StandardScaler()\n",
    "x_train = s_scaler.fit_transform(x_train)\n",
    "x_test = s_scaler.transform(x_test)\n",
    "#sns.distplot(x_train[:,0])"
   ]
  },
  {
   "cell_type": "markdown",
   "metadata": {},
   "source": [
    "## Linear logistic regression"
   ]
  },
  {
   "cell_type": "code",
   "execution_count": 8,
   "metadata": {},
   "outputs": [
    {
     "name": "stdout",
     "output_type": "stream",
     "text": [
      "\n",
      " Goodness of fit of linear model training followed by test data \n",
      " 0.8487394957983193 \n",
      " 0.7789115646258503\n"
     ]
    }
   ],
   "source": [
    "from sklearn.linear_model import LogisticRegression\n",
    "lor = LogisticRegression()\n",
    "lor.fit(x_train, y_train.values.ravel())\n",
    "y_train_predict = lor.predict(x_train)\n",
    "y_test_predict = lor.predict(x_test)\n",
    "print('\\n Goodness of fit of linear model training followed by test data \\n', lor.score(x_train, y_train),'\\n', lor.score(x_test, y_test))\n"
   ]
  },
  {
   "cell_type": "markdown",
   "metadata": {},
   "source": [
    "## Polynomial regression"
   ]
  },
  {
   "cell_type": "code",
   "execution_count": 11,
   "metadata": {},
   "outputs": [
    {
     "name": "stdout",
     "output_type": "stream",
     "text": [
      "\n",
      " Goodness of fit of polynomical model training followed by test data \n",
      " 0.8907563025210085 \n",
      " 0.7448979591836735\n"
     ]
    }
   ],
   "source": [
    "from sklearn.preprocessing import PolynomialFeatures\n",
    "polyf = PolynomialFeatures(degree = 3)\n",
    "x_poly = polyf.fit_transform(X)\n",
    "x_train_pf, x_test_pf, y_train_pf, y_test_pf = train_test_split(x_poly, Y, test_size=0.33, random_state=0)\n",
    "x_train_pf = s_scaler.fit_transform(x_train_pf)\n",
    "x_test_pf = s_scaler.transform(x_test_pf)\n",
    "lor.fit(x_train_pf, y_train_pf)\n",
    "print('\\n Goodness of fit of polynomical model training followed by test data \\n', lor.score(x_train_pf, y_train_pf),'\\n', lor.score(x_test_pf, y_test_pf))"
   ]
  },
  {
   "cell_type": "markdown",
   "metadata": {},
   "source": [
    "## Support vector Machine"
   ]
  },
  {
   "cell_type": "code",
   "execution_count": 20,
   "metadata": {},
   "outputs": [
    {
     "name": "stdout",
     "output_type": "stream",
     "text": [
      "\n",
      " Goodness of fit of SVC training followed by test data \n",
      " 0.8285714285714286 \n",
      " 0.7755102040816326\n"
     ]
    }
   ],
   "source": [
    "from sklearn.svm import SVC\n",
    "svc = SVC(kernel = 'rbf', gamma = 0.01)\n",
    "svc.fit(x_train, y_train.values.ravel())\n",
    "print('\\n Goodness of fit of SVC training followed by test data \\n', svc.score(x_train, y_train),'\\n', svc.score(x_test, y_test))"
   ]
  },
  {
   "cell_type": "markdown",
   "metadata": {},
   "source": [
    "## K-Nearest neighbours"
   ]
  },
  {
   "cell_type": "code",
   "execution_count": 27,
   "metadata": {},
   "outputs": [
    {
     "name": "stdout",
     "output_type": "stream",
     "text": [
      "\n",
      " Goodness of fit of SVC training followed by test data \n",
      " 0.8890756302521008 \n",
      " 0.7244897959183674\n"
     ]
    }
   ],
   "source": [
    "from sklearn.neighbors import KNeighborsClassifier\n",
    "knn = KNeighborsClassifier(n_neighbors = 5, weights = 'distance', algorithm = 'kd_tree')\n",
    "knn.fit(x_train, y_train.values.ravel())\n",
    "print('\\n Goodness of fit of SVC training followed by test data \\n', knn.score(x_train, y_train),'\\n', knn.score(x_test, y_test))"
   ]
  },
  {
   "cell_type": "markdown",
   "metadata": {},
   "source": [
    "## Using Cross-Validation technique to choose the best model"
   ]
  },
  {
   "cell_type": "code",
   "execution_count": null,
   "metadata": {},
   "outputs": [],
   "source": []
  },
  {
   "cell_type": "markdown",
   "metadata": {},
   "source": [
    "## Preparing test file to predict the output"
   ]
  },
  {
   "cell_type": "code",
   "execution_count": 54,
   "metadata": {},
   "outputs": [
    {
     "data": {
      "text/html": [
       "<div>\n",
       "<style scoped>\n",
       "    .dataframe tbody tr th:only-of-type {\n",
       "        vertical-align: middle;\n",
       "    }\n",
       "\n",
       "    .dataframe tbody tr th {\n",
       "        vertical-align: top;\n",
       "    }\n",
       "\n",
       "    .dataframe thead th {\n",
       "        text-align: right;\n",
       "    }\n",
       "</style>\n",
       "<table border=\"1\" class=\"dataframe\">\n",
       "  <thead>\n",
       "    <tr style=\"text-align: right;\">\n",
       "      <th></th>\n",
       "      <th>PassengerId</th>\n",
       "      <th>Pclass</th>\n",
       "      <th>Name</th>\n",
       "      <th>Sex</th>\n",
       "      <th>Age</th>\n",
       "      <th>SibSp</th>\n",
       "      <th>Parch</th>\n",
       "      <th>Ticket</th>\n",
       "      <th>Fare</th>\n",
       "      <th>Cabin</th>\n",
       "      <th>Embarked</th>\n",
       "    </tr>\n",
       "  </thead>\n",
       "  <tbody>\n",
       "    <tr>\n",
       "      <td>0</td>\n",
       "      <td>892</td>\n",
       "      <td>3</td>\n",
       "      <td>Kelly, Mr. James</td>\n",
       "      <td>male</td>\n",
       "      <td>34.5</td>\n",
       "      <td>0</td>\n",
       "      <td>0</td>\n",
       "      <td>330911</td>\n",
       "      <td>7.8292</td>\n",
       "      <td>NaN</td>\n",
       "      <td>Q</td>\n",
       "    </tr>\n",
       "    <tr>\n",
       "      <td>1</td>\n",
       "      <td>893</td>\n",
       "      <td>3</td>\n",
       "      <td>Wilkes, Mrs. James (Ellen Needs)</td>\n",
       "      <td>female</td>\n",
       "      <td>47.0</td>\n",
       "      <td>1</td>\n",
       "      <td>0</td>\n",
       "      <td>363272</td>\n",
       "      <td>7.0000</td>\n",
       "      <td>NaN</td>\n",
       "      <td>S</td>\n",
       "    </tr>\n",
       "    <tr>\n",
       "      <td>2</td>\n",
       "      <td>894</td>\n",
       "      <td>2</td>\n",
       "      <td>Myles, Mr. Thomas Francis</td>\n",
       "      <td>male</td>\n",
       "      <td>62.0</td>\n",
       "      <td>0</td>\n",
       "      <td>0</td>\n",
       "      <td>240276</td>\n",
       "      <td>9.6875</td>\n",
       "      <td>NaN</td>\n",
       "      <td>Q</td>\n",
       "    </tr>\n",
       "    <tr>\n",
       "      <td>3</td>\n",
       "      <td>895</td>\n",
       "      <td>3</td>\n",
       "      <td>Wirz, Mr. Albert</td>\n",
       "      <td>male</td>\n",
       "      <td>27.0</td>\n",
       "      <td>0</td>\n",
       "      <td>0</td>\n",
       "      <td>315154</td>\n",
       "      <td>8.6625</td>\n",
       "      <td>NaN</td>\n",
       "      <td>S</td>\n",
       "    </tr>\n",
       "  </tbody>\n",
       "</table>\n",
       "</div>"
      ],
      "text/plain": [
       "   PassengerId  Pclass                              Name     Sex   Age  SibSp  \\\n",
       "0          892       3                  Kelly, Mr. James    male  34.5      0   \n",
       "1          893       3  Wilkes, Mrs. James (Ellen Needs)  female  47.0      1   \n",
       "2          894       2         Myles, Mr. Thomas Francis    male  62.0      0   \n",
       "3          895       3                  Wirz, Mr. Albert    male  27.0      0   \n",
       "\n",
       "   Parch  Ticket    Fare Cabin Embarked  \n",
       "0      0  330911  7.8292   NaN        Q  \n",
       "1      0  363272  7.0000   NaN        S  \n",
       "2      0  240276  9.6875   NaN        Q  \n",
       "3      0  315154  8.6625   NaN        S  "
      ]
     },
     "execution_count": 54,
     "metadata": {},
     "output_type": "execute_result"
    }
   ],
   "source": [
    "test_file = pd.read_csv('./test.csv')\n",
    "test_file.head(4)"
   ]
  },
  {
   "cell_type": "code",
   "execution_count": 55,
   "metadata": {},
   "outputs": [
    {
     "name": "stdout",
     "output_type": "stream",
     "text": [
      "\n",
      " The number of NaN values in the data are: \n",
      " PassengerId      0\n",
      "Pclass           0\n",
      "Name             0\n",
      "Sex              0\n",
      "Age             86\n",
      "SibSp            0\n",
      "Parch            0\n",
      "Ticket           0\n",
      "Fare             1\n",
      "Cabin          327\n",
      "Embarked         0\n",
      "dtype: int64\n"
     ]
    }
   ],
   "source": [
    "# Counting the NaN values in the data set\n",
    "print('\\n The number of NaN values in the data are: \\n', test_file.isnull().sum())"
   ]
  },
  {
   "cell_type": "markdown",
   "metadata": {},
   "source": [
    "Using the same method as above to fill the missing age in the test data set."
   ]
  },
  {
   "cell_type": "code",
   "execution_count": 56,
   "metadata": {},
   "outputs": [
    {
     "name": "stdout",
     "output_type": "stream",
     "text": [
      "\n",
      " The number of NaN values in the data after filling age column are: \n",
      " PassengerId      0\n",
      "Pclass           0\n",
      "Name             0\n",
      "Sex              0\n",
      "Age              0\n",
      "SibSp            0\n",
      "Parch            0\n",
      "Ticket           0\n",
      "Fare             1\n",
      "Cabin          327\n",
      "Embarked         0\n",
      "dtype: int64\n"
     ]
    }
   ],
   "source": [
    "age_filter = test_file.Age < 18\n",
    "age_null_filter = test_file.Age.isnull()\n",
    "name_filter_master = test_file.Name.str.contains(\"Master\")\n",
    "name_filter_mister = test_file.Name.str.contains(\"Mr\")\n",
    "name_filter_missus = test_file.Name.str.contains(\"Mrs\")\n",
    "name_filter_miss = test_file.Name.str.contains(\"Miss\")\n",
    "mean_age_boys = test_file[name_filter_master].Age.mean()\n",
    "mean_age_girls = test_file[name_filter_miss & age_filter].Age.mean()\n",
    "mean_age_women = test_file[(name_filter_miss & ~age_filter) | name_filter_missus].Age.mean()\n",
    "mean_age_men = test_file[name_filter_mister].Age.mean()\n",
    "test_file.loc[age_null_filter & name_filter_mister,'Age'] = mean_age_men\n",
    "test_file.loc[age_null_filter & name_filter_master,'Age'] = mean_age_boys\n",
    "test_file.loc[age_null_filter & name_filter_miss & age_filter,'Age'] = mean_age_girls\n",
    "test_file.loc[age_null_filter & (name_filter_miss & ~age_filter) | name_filter_missus,'Age'] = mean_age_women\n",
    "test_file.loc[~name_filter_master & ~name_filter_mister & ~name_filter_missus & ~name_filter_miss & age_null_filter,'Age'] = mean_age_men\n",
    "print('\\n The number of NaN values in the data after filling age column are: \\n', test_file.isnull().sum())"
   ]
  },
  {
   "cell_type": "markdown",
   "metadata": {},
   "source": [
    "### Converting the categorical data to numerical values as above"
   ]
  },
  {
   "cell_type": "code",
   "execution_count": null,
   "metadata": {},
   "outputs": [],
   "source": [
    "temp_embark = ohe.fit_transform(test_file.iloc[:,10:11].values).toarray()\n",
    "temp_embark = pd.DataFrame(temp_embark)\n",
    "temp_embark.columns = ['Cherbourg','Queenstown','Southampton']\n",
    "\n",
    "temp_pclass = ohe.fit_transform(test_file.iloc[:,1:2].values).toarray()\n",
    "temp_pclass = pd.DataFrame(temp_pclass)\n",
    "temp_pclass.columns = ['Upper','Middle','Lower']\n",
    "\n",
    "temp_sex = le.fit_transform(test_file.Sex)\n",
    "temp_sex = pd.DataFrame(temp_sex)\n",
    "temp_sex.columns = ['Sex']\n",
    "\n",
    "age_group = le.fit_transform(age_filter)\n",
    "age_group = pd.DataFrame(age_group)\n",
    "age_group.columns = ['Age group']"
   ]
  },
  {
   "cell_type": "markdown",
   "metadata": {},
   "source": [
    "### Splitting and rescaling features"
   ]
  },
  {
   "cell_type": "code",
   "execution_count": null,
   "metadata": {},
   "outputs": [],
   "source": [
    "X = pd.concat([temp_embark, temp_sex, age_group, temp_pclass], axis = 1)\n",
    "X_predict = s_scaler.transform(X)"
   ]
  },
  {
   "cell_type": "markdown",
   "metadata": {},
   "source": [
    "### Predicting the survival status of the test subjects"
   ]
  },
  {
   "cell_type": "code",
   "execution_count": null,
   "metadata": {},
   "outputs": [],
   "source": [
    "X.head(4)\n",
    "#print(X.isnull().sum())\n",
    "Y_test_predict = lor.predict(X_predict)\n",
    "Y_test_predict = pd.DataFrame(Y_test_predict)\n",
    "Y_test_predict.columns = ['Survived']\n",
    "Y_test_predict.head(6)"
   ]
  },
  {
   "cell_type": "markdown",
   "metadata": {},
   "source": [
    "## Saving the predicted data in the CSV file"
   ]
  },
  {
   "cell_type": "code",
   "execution_count": null,
   "metadata": {},
   "outputs": [],
   "source": [
    "sub_file = pd.read_csv('./gender_submission.csv')\n",
    "sub_file.head(4)"
   ]
  },
  {
   "cell_type": "code",
   "execution_count": null,
   "metadata": {},
   "outputs": [],
   "source": [
    "sub_file.drop(columns = ['Survived'],  inplace = True)\n",
    "sub_file = pd.concat([sub_file, Y_test_predict], axis = 1)\n",
    "sub_file.head(6)"
   ]
  },
  {
   "cell_type": "code",
   "execution_count": null,
   "metadata": {},
   "outputs": [],
   "source": [
    "sub_file.to_csv('./gender_submission.csv', index = False)"
   ]
  }
 ],
 "metadata": {
  "kernelspec": {
   "display_name": "Python 3",
   "language": "python",
   "name": "python3"
  },
  "language_info": {
   "codemirror_mode": {
    "name": "ipython",
    "version": 3
   },
   "file_extension": ".py",
   "mimetype": "text/x-python",
   "name": "python",
   "nbconvert_exporter": "python",
   "pygments_lexer": "ipython3",
   "version": "3.7.4"
  }
 },
 "nbformat": 4,
 "nbformat_minor": 2
}
